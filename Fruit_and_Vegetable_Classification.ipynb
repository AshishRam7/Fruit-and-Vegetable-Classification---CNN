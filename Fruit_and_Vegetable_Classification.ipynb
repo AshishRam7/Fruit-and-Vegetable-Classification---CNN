{
  "nbformat": 4,
  "nbformat_minor": 0,
  "metadata": {
    "colab": {
      "provenance": [],
      "mount_file_id": "1QXTLOpoAeUS7LX_Ts188oxPkLgokhVnd",
      "authorship_tag": "ABX9TyM+PBwEMkJ9bX8dVYctCDmb",
      "include_colab_link": true
    },
    "kernelspec": {
      "name": "python3",
      "display_name": "Python 3"
    },
    "language_info": {
      "name": "python"
    }
  },
  "cells": [
    {
      "cell_type": "markdown",
      "metadata": {
        "id": "view-in-github",
        "colab_type": "text"
      },
      "source": [
        "<a href=\"https://colab.research.google.com/github/AshishRam7/Fruit-and-Vegetable-Classification---CNN/blob/main/Fruit_and_Vegetable_Classification.ipynb\" target=\"_parent\"><img src=\"https://colab.research.google.com/assets/colab-badge.svg\" alt=\"Open In Colab\"/></a>"
      ]
    },
    {
      "cell_type": "code",
      "execution_count": 44,
      "metadata": {
        "colab": {
          "base_uri": "https://localhost:8080/"
        },
        "id": "rZXbgSGIiH79",
        "outputId": "a52cd3f2-e3d3-4c01-b82b-50dc154e21f3"
      },
      "outputs": [
        {
          "output_type": "stream",
          "name": "stdout",
          "text": [
            "Drive already mounted at /content/drive; to attempt to forcibly remount, call drive.mount(\"/content/drive\", force_remount=True).\n"
          ]
        }
      ],
      "source": [
        "#Mounting the data from Google Drive\n",
        "from google.colab import drive\n",
        "drive.mount('/content/drive')"
      ]
    },
    {
      "cell_type": "markdown",
      "source": [
        "Dataset Link: https://www.kaggle.com/datasets/kritikseth/fruit-and-vegetable-image-recognition"
      ],
      "metadata": {
        "id": "HJSIODL8jhZr"
      }
    },
    {
      "cell_type": "code",
      "source": [
        "import tensorflow as tf\n",
        "#from keras.preprocessing.image import ImageDataGenerator\n",
        "import matplotlib.pyplot as plt"
      ],
      "metadata": {
        "id": "Pkoyu0-bjmwc"
      },
      "execution_count": 60,
      "outputs": []
    },
    {
      "cell_type": "markdown",
      "source": [
        "##Performing Data Preprocessing\n"
      ],
      "metadata": {
        "id": "g_uTeE_vkJCA"
      }
    },
    {
      "cell_type": "markdown",
      "source": [
        "\n",
        "##Training Image preprocessing:"
      ],
      "metadata": {
        "id": "ZUt5VmFlo0je"
      }
    },
    {
      "cell_type": "code",
      "source": [
        "training_data = tf.keras.utils.image_dataset_from_directory(\n",
        "    '/content/drive/MyDrive/Fruit_and_Vegetables_Classification/train',\n",
        "    labels = \"inferred\",\n",
        "    label_mode = \"categorical\",\n",
        "    class_names = None,\n",
        "    color_mode = \"rgb\",\n",
        "    batch_size = 32,\n",
        "    image_size = (64, 64),\n",
        "    shuffle = True,\n",
        "    seed = None,\n",
        "    validation_split = None,\n",
        "    subset = None,\n",
        "    interpolation = \"bilinear\",\n",
        "    follow_links = False,\n",
        "    crop_to_aspect_ratio = False\n",
        ")"
      ],
      "metadata": {
        "colab": {
          "base_uri": "https://localhost:8080/"
        },
        "id": "vux_6d6okO3s",
        "outputId": "941f16aa-a5f9-40c0-cdcf-009f41455d7d"
      },
      "execution_count": 61,
      "outputs": [
        {
          "output_type": "stream",
          "name": "stdout",
          "text": [
            "Found 3115 files belonging to 36 classes.\n"
          ]
        }
      ]
    },
    {
      "cell_type": "markdown",
      "source": [
        "##Validation image set preprocessing:\n"
      ],
      "metadata": {
        "id": "GtP8_DDVtdKh"
      }
    },
    {
      "cell_type": "code",
      "source": [
        "validation_data = tf.keras.utils.image_dataset_from_directory(\n",
        "    '/content/drive/MyDrive/Fruit_and_Vegetables_Classification/validation',\n",
        "    labels=\"inferred\",\n",
        "    label_mode=\"categorical\",\n",
        "    class_names=None,\n",
        "    color_mode=\"rgb\",\n",
        "    batch_size=32,\n",
        "    image_size=(64, 64),\n",
        "    shuffle=True,\n",
        "    seed=None,\n",
        "    validation_split=None,\n",
        "    subset=None,\n",
        "    interpolation=\"bilinear\",\n",
        "    follow_links=False,\n",
        "    crop_to_aspect_ratio=False\n",
        ")"
      ],
      "metadata": {
        "colab": {
          "base_uri": "https://localhost:8080/"
        },
        "id": "rcPqBLn8tloK",
        "outputId": "cc12f58b-1d15-4ece-fb4e-1833fd217c60"
      },
      "execution_count": 62,
      "outputs": [
        {
          "output_type": "stream",
          "name": "stdout",
          "text": [
            "Found 351 files belonging to 36 classes.\n"
          ]
        }
      ]
    },
    {
      "cell_type": "markdown",
      "source": [
        "##Building Model:"
      ],
      "metadata": {
        "id": "eVZXFnToARwi"
      }
    },
    {
      "cell_type": "code",
      "source": [
        "cnn = tf.keras.models.Sequential()"
      ],
      "metadata": {
        "id": "A0DMPV5mAVBv"
      },
      "execution_count": 63,
      "outputs": []
    },
    {
      "cell_type": "markdown",
      "source": [
        "##Building Convolutional Layer"
      ],
      "metadata": {
        "id": "PKGuGdkfA9IO"
      }
    },
    {
      "cell_type": "markdown",
      "source": [
        "First Convulational Layer:"
      ],
      "metadata": {
        "id": "ag1fld3CDX0y"
      }
    },
    {
      "cell_type": "code",
      "source": [
        "cnn.add(tf.keras.layers.Conv2D(filters=32,kernel_size=3,activation='relu',input_shape=(64,64,3)))\n",
        "cnn.add(tf.keras.layers.Conv2D(filters=32,kernel_size=3,activation='relu'))\n",
        "cnn.add(tf.keras.layers.MaxPool2D(pool_size=2,strides=2))"
      ],
      "metadata": {
        "id": "QZ_SmleOq3aM"
      },
      "execution_count": 64,
      "outputs": []
    },
    {
      "cell_type": "markdown",
      "source": [
        "Second Convolutional Layer:"
      ],
      "metadata": {
        "id": "ZbYpjSB0Ddy9"
      }
    },
    {
      "cell_type": "code",
      "source": [
        "cnn.add(tf.keras.layers.Conv2D(filters=64,kernel_size=3,activation='relu'))\n",
        "cnn.add(tf.keras.layers.Conv2D(filters=64,kernel_size=3,activation='relu'))\n",
        "cnn.add(tf.keras.layers.MaxPool2D(pool_size=2,strides=2))"
      ],
      "metadata": {
        "id": "ars_QUNHq1Hm"
      },
      "execution_count": 65,
      "outputs": []
    },
    {
      "cell_type": "markdown",
      "source": [
        "Flattening the layers:"
      ],
      "metadata": {
        "id": "LSQWXMcyDiv_"
      }
    },
    {
      "cell_type": "code",
      "source": [
        "cnn.add(tf.keras.layers.Flatten())"
      ],
      "metadata": {
        "id": "5GpSLn-6Cnum"
      },
      "execution_count": 66,
      "outputs": []
    },
    {
      "cell_type": "code",
      "source": [
        "cnn.add(tf.keras.layers.Dense(units=512,activation='relu'))"
      ],
      "metadata": {
        "id": "n0TuqOcNCuXi"
      },
      "execution_count": 67,
      "outputs": []
    },
    {
      "cell_type": "code",
      "source": [
        "cnn.add(tf.keras.layers.Dense(units=256,activation='relu'))"
      ],
      "metadata": {
        "id": "-iavcS9Fp7UP"
      },
      "execution_count": 68,
      "outputs": []
    },
    {
      "cell_type": "code",
      "source": [
        "cnn.add(tf.keras.layers.Dropout(0.5))   #To avoid overfitting"
      ],
      "metadata": {
        "id": "JBk_3phVqFMc"
      },
      "execution_count": 69,
      "outputs": []
    },
    {
      "cell_type": "markdown",
      "source": [
        "Creating the output layer:"
      ],
      "metadata": {
        "id": "7czDw1iqDrih"
      }
    },
    {
      "cell_type": "code",
      "source": [
        "#Output layer\n",
        "cnn.add(tf.keras.layers.Dense(units=36,activation='softmax'))"
      ],
      "metadata": {
        "id": "_RdWNGz1DERT"
      },
      "execution_count": 70,
      "outputs": []
    },
    {
      "cell_type": "markdown",
      "source": [
        "#Compiling and Training Phase:"
      ],
      "metadata": {
        "id": "1eH2Wp8SD5Tm"
      }
    },
    {
      "cell_type": "code",
      "source": [
        "cnn.compile(optimizer = 'adam', loss='categorical_crossentropy',metrics=['accuracy'])"
      ],
      "metadata": {
        "id": "IG5ISpZ_D-EK"
      },
      "execution_count": 71,
      "outputs": []
    },
    {
      "cell_type": "code",
      "source": [
        "cnn.summary()"
      ],
      "metadata": {
        "colab": {
          "base_uri": "https://localhost:8080/"
        },
        "id": "zBfgStbglj_j",
        "outputId": "81e6a55f-a8a5-45e1-d81e-b70620c12b86"
      },
      "execution_count": 72,
      "outputs": [
        {
          "output_type": "stream",
          "name": "stdout",
          "text": [
            "Model: \"sequential_3\"\n",
            "_________________________________________________________________\n",
            " Layer (type)                Output Shape              Param #   \n",
            "=================================================================\n",
            " conv2d_12 (Conv2D)          (None, 62, 62, 32)        896       \n",
            "                                                                 \n",
            " conv2d_13 (Conv2D)          (None, 60, 60, 32)        9248      \n",
            "                                                                 \n",
            " max_pooling2d_6 (MaxPoolin  (None, 30, 30, 32)        0         \n",
            " g2D)                                                            \n",
            "                                                                 \n",
            " conv2d_14 (Conv2D)          (None, 28, 28, 64)        18496     \n",
            "                                                                 \n",
            " conv2d_15 (Conv2D)          (None, 26, 26, 64)        36928     \n",
            "                                                                 \n",
            " max_pooling2d_7 (MaxPoolin  (None, 13, 13, 64)        0         \n",
            " g2D)                                                            \n",
            "                                                                 \n",
            " flatten_3 (Flatten)         (None, 10816)             0         \n",
            "                                                                 \n",
            " dense_9 (Dense)             (None, 512)               5538304   \n",
            "                                                                 \n",
            " dense_10 (Dense)            (None, 256)               131328    \n",
            "                                                                 \n",
            " dropout_3 (Dropout)         (None, 256)               0         \n",
            "                                                                 \n",
            " dense_11 (Dense)            (None, 36)                9252      \n",
            "                                                                 \n",
            "=================================================================\n",
            "Total params: 5744452 (21.91 MB)\n",
            "Trainable params: 5744452 (21.91 MB)\n",
            "Non-trainable params: 0 (0.00 Byte)\n",
            "_________________________________________________________________\n"
          ]
        }
      ]
    },
    {
      "cell_type": "markdown",
      "source": [
        "##Training:"
      ],
      "metadata": {
        "id": "Tq3SuMvJEUV3"
      }
    },
    {
      "cell_type": "code",
      "source": [
        "callbacks = [tf.keras.callbacks.EarlyStopping(monitor='val_loss', patience=4),\n",
        "             tf.keras.callbacks.ModelCheckpoint(filepath='best_model.h5', monitor='val_loss', save_best_only=True)]\n",
        "\n",
        "training_history = cnn.fit(x=training_data,validation_data=validation_data,epochs=32,callbacks=callbacks,verbose=1)"
      ],
      "metadata": {
        "colab": {
          "base_uri": "https://localhost:8080/"
        },
        "id": "ZEKj4JQFEXbi",
        "outputId": "d68fffd9-3c3f-43c6-bc85-9cc5aceb4a15"
      },
      "execution_count": 73,
      "outputs": [
        {
          "output_type": "stream",
          "name": "stdout",
          "text": [
            "Epoch 1/32\n",
            "98/98 [==============================] - 87s 813ms/step - loss: 5.6648 - accuracy: 0.0331 - val_loss: 3.5243 - val_accuracy: 0.0570\n",
            "Epoch 2/32\n",
            "98/98 [==============================] - 79s 764ms/step - loss: 3.5428 - accuracy: 0.0517 - val_loss: 3.4548 - val_accuracy: 0.0912\n",
            "Epoch 3/32\n",
            "98/98 [==============================] - 88s 842ms/step - loss: 3.4849 - accuracy: 0.0729 - val_loss: 3.3140 - val_accuracy: 0.1453\n",
            "Epoch 4/32\n",
            "98/98 [==============================] - 81s 765ms/step - loss: 3.3632 - accuracy: 0.1018 - val_loss: 3.1620 - val_accuracy: 0.2051\n",
            "Epoch 5/32\n",
            "98/98 [==============================] - 82s 795ms/step - loss: 3.1859 - accuracy: 0.1384 - val_loss: 3.0437 - val_accuracy: 0.2222\n",
            "Epoch 6/32\n",
            "98/98 [==============================] - 80s 759ms/step - loss: 2.9629 - accuracy: 0.2055 - val_loss: 2.7526 - val_accuracy: 0.2906\n",
            "Epoch 7/32\n",
            "98/98 [==============================] - 77s 746ms/step - loss: 2.7384 - accuracy: 0.2709 - val_loss: 2.6321 - val_accuracy: 0.3590\n",
            "Epoch 8/32\n",
            "98/98 [==============================] - 78s 744ms/step - loss: 2.5140 - accuracy: 0.3387 - val_loss: 2.4547 - val_accuracy: 0.4074\n",
            "Epoch 9/32\n",
            "98/98 [==============================] - 80s 765ms/step - loss: 2.3370 - accuracy: 0.3653 - val_loss: 2.2759 - val_accuracy: 0.4872\n",
            "Epoch 10/32\n",
            "98/98 [==============================] - 90s 844ms/step - loss: 2.0874 - accuracy: 0.4321 - val_loss: 1.9885 - val_accuracy: 0.5071\n",
            "Epoch 11/32\n",
            "98/98 [==============================] - 79s 755ms/step - loss: 1.8798 - accuracy: 0.4825 - val_loss: 2.0032 - val_accuracy: 0.5214\n",
            "Epoch 12/32\n",
            "98/98 [==============================] - 78s 753ms/step - loss: 1.6987 - accuracy: 0.5371 - val_loss: 2.0502 - val_accuracy: 0.5726\n",
            "Epoch 13/32\n",
            "98/98 [==============================] - 82s 791ms/step - loss: 1.4959 - accuracy: 0.5949 - val_loss: 2.0719 - val_accuracy: 0.5641\n",
            "Epoch 14/32\n",
            "98/98 [==============================] - 82s 789ms/step - loss: 1.3782 - accuracy: 0.6234 - val_loss: 1.5747 - val_accuracy: 0.6610\n",
            "Epoch 15/32\n",
            "98/98 [==============================] - 81s 771ms/step - loss: 1.2537 - accuracy: 0.6604 - val_loss: 1.6086 - val_accuracy: 0.6524\n",
            "Epoch 16/32\n",
            "98/98 [==============================] - 84s 812ms/step - loss: 1.1682 - accuracy: 0.6950 - val_loss: 1.4554 - val_accuracy: 0.6724\n",
            "Epoch 17/32\n",
            "98/98 [==============================] - 84s 794ms/step - loss: 0.9993 - accuracy: 0.7255 - val_loss: 1.5434 - val_accuracy: 0.6724\n",
            "Epoch 18/32\n",
            "98/98 [==============================] - 81s 782ms/step - loss: 0.9670 - accuracy: 0.7522 - val_loss: 1.1948 - val_accuracy: 0.7692\n",
            "Epoch 19/32\n",
            "98/98 [==============================] - 78s 755ms/step - loss: 0.8857 - accuracy: 0.7701 - val_loss: 1.4444 - val_accuracy: 0.6980\n",
            "Epoch 20/32\n",
            "98/98 [==============================] - 81s 781ms/step - loss: 0.8622 - accuracy: 0.7730 - val_loss: 1.2911 - val_accuracy: 0.7892\n",
            "Epoch 21/32\n",
            "98/98 [==============================] - 78s 744ms/step - loss: 0.7554 - accuracy: 0.8096 - val_loss: 1.2799 - val_accuracy: 0.7464\n",
            "Epoch 22/32\n",
            "98/98 [==============================] - 79s 748ms/step - loss: 0.7497 - accuracy: 0.8138 - val_loss: 1.1255 - val_accuracy: 0.7806\n",
            "Epoch 23/32\n",
            "98/98 [==============================] - 83s 794ms/step - loss: 0.5795 - accuracy: 0.8337 - val_loss: 0.9269 - val_accuracy: 0.8575\n",
            "Epoch 24/32\n",
            "98/98 [==============================] - 85s 813ms/step - loss: 0.5410 - accuracy: 0.8571 - val_loss: 1.0154 - val_accuracy: 0.8205\n",
            "Epoch 25/32\n",
            "98/98 [==============================] - 80s 777ms/step - loss: 0.5444 - accuracy: 0.8600 - val_loss: 0.8553 - val_accuracy: 0.8405\n",
            "Epoch 26/32\n",
            "98/98 [==============================] - 83s 791ms/step - loss: 0.5226 - accuracy: 0.8610 - val_loss: 0.8498 - val_accuracy: 0.8832\n",
            "Epoch 27/32\n",
            "98/98 [==============================] - 81s 779ms/step - loss: 0.4237 - accuracy: 0.8944 - val_loss: 0.9180 - val_accuracy: 0.8832\n",
            "Epoch 28/32\n",
            "98/98 [==============================] - 77s 728ms/step - loss: 0.4672 - accuracy: 0.8822 - val_loss: 0.9917 - val_accuracy: 0.8718\n",
            "Epoch 29/32\n",
            "98/98 [==============================] - 79s 751ms/step - loss: 0.3983 - accuracy: 0.9050 - val_loss: 0.8763 - val_accuracy: 0.8575\n",
            "Epoch 30/32\n",
            "98/98 [==============================] - 86s 831ms/step - loss: 0.3695 - accuracy: 0.9108 - val_loss: 0.7980 - val_accuracy: 0.8689\n",
            "Epoch 31/32\n",
            "98/98 [==============================] - 79s 753ms/step - loss: 0.3258 - accuracy: 0.9146 - val_loss: 0.8253 - val_accuracy: 0.8832\n",
            "Epoch 32/32\n",
            "98/98 [==============================] - 79s 757ms/step - loss: 0.3154 - accuracy: 0.9233 - val_loss: 0.8168 - val_accuracy: 0.8889\n"
          ]
        }
      ]
    },
    {
      "cell_type": "code",
      "source": [
        "cnn.save('trained_model_final.h5')"
      ],
      "metadata": {
        "id": "sABa5DRupgV3"
      },
      "execution_count": 75,
      "outputs": []
    },
    {
      "cell_type": "code",
      "source": [
        "training_history.history #return dictionary of history"
      ],
      "metadata": {
        "colab": {
          "base_uri": "https://localhost:8080/"
        },
        "id": "Aena4mQmqBZ8",
        "outputId": "be6d9748-afd6-4190-adb1-c82baf1d0624"
      },
      "execution_count": 76,
      "outputs": [
        {
          "output_type": "execute_result",
          "data": {
            "text/plain": [
              "{'loss': [5.664769649505615,\n",
              "  3.5428152084350586,\n",
              "  3.484867811203003,\n",
              "  3.363243579864502,\n",
              "  3.1859397888183594,\n",
              "  2.9629411697387695,\n",
              "  2.738412618637085,\n",
              "  2.5139942169189453,\n",
              "  2.3370118141174316,\n",
              "  2.0874106884002686,\n",
              "  1.8798129558563232,\n",
              "  1.6986945867538452,\n",
              "  1.4959425926208496,\n",
              "  1.3782446384429932,\n",
              "  1.2536543607711792,\n",
              "  1.1682366132736206,\n",
              "  0.9992695450782776,\n",
              "  0.9669819474220276,\n",
              "  0.8857415318489075,\n",
              "  0.8622260093688965,\n",
              "  0.7553974986076355,\n",
              "  0.7496892213821411,\n",
              "  0.579508900642395,\n",
              "  0.540992796421051,\n",
              "  0.5443928241729736,\n",
              "  0.5225899815559387,\n",
              "  0.4236716032028198,\n",
              "  0.46721598505973816,\n",
              "  0.3982711732387543,\n",
              "  0.36951208114624023,\n",
              "  0.3258238434791565,\n",
              "  0.3154262602329254],\n",
              " 'accuracy': [0.033065810799598694,\n",
              "  0.0516853928565979,\n",
              "  0.07287319749593735,\n",
              "  0.10176564753055573,\n",
              "  0.13836276531219482,\n",
              "  0.20545746386051178,\n",
              "  0.27094703912734985,\n",
              "  0.3386837840080261,\n",
              "  0.3653290569782257,\n",
              "  0.4321027398109436,\n",
              "  0.4825040102005005,\n",
              "  0.5370786786079407,\n",
              "  0.5948635339736938,\n",
              "  0.6234350204467773,\n",
              "  0.6603531241416931,\n",
              "  0.6950240731239319,\n",
              "  0.7255216836929321,\n",
              "  0.7521669268608093,\n",
              "  0.7701444625854492,\n",
              "  0.7730336785316467,\n",
              "  0.809630811214447,\n",
              "  0.8138041496276855,\n",
              "  0.833707869052887,\n",
              "  0.8571428656578064,\n",
              "  0.8600320816040039,\n",
              "  0.8609951734542847,\n",
              "  0.8943819999694824,\n",
              "  0.8821830153465271,\n",
              "  0.904975950717926,\n",
              "  0.9107544422149658,\n",
              "  0.9146067500114441,\n",
              "  0.9232744574546814],\n",
              " 'val_loss': [3.5243313312530518,\n",
              "  3.4548046588897705,\n",
              "  3.31404972076416,\n",
              "  3.161992073059082,\n",
              "  3.043748140335083,\n",
              "  2.7526419162750244,\n",
              "  2.6320905685424805,\n",
              "  2.4546968936920166,\n",
              "  2.275883674621582,\n",
              "  1.9885358810424805,\n",
              "  2.0031728744506836,\n",
              "  2.0502243041992188,\n",
              "  2.0718514919281006,\n",
              "  1.5747425556182861,\n",
              "  1.6085880994796753,\n",
              "  1.4553924798965454,\n",
              "  1.543444037437439,\n",
              "  1.1948350667953491,\n",
              "  1.444434404373169,\n",
              "  1.2910627126693726,\n",
              "  1.279895544052124,\n",
              "  1.125491738319397,\n",
              "  0.9269295930862427,\n",
              "  1.0153638124465942,\n",
              "  0.8553411960601807,\n",
              "  0.8498165011405945,\n",
              "  0.9179973602294922,\n",
              "  0.9917495846748352,\n",
              "  0.8762884140014648,\n",
              "  0.7980397939682007,\n",
              "  0.8253088593482971,\n",
              "  0.8168484568595886],\n",
              " 'val_accuracy': [0.056980058550834656,\n",
              "  0.09116809070110321,\n",
              "  0.14529915153980255,\n",
              "  0.20512820780277252,\n",
              "  0.2222222238779068,\n",
              "  0.2905983030796051,\n",
              "  0.3589743673801422,\n",
              "  0.40740740299224854,\n",
              "  0.4871794879436493,\n",
              "  0.5071225166320801,\n",
              "  0.5213675498962402,\n",
              "  0.5726495981216431,\n",
              "  0.5641025900840759,\n",
              "  0.6609686613082886,\n",
              "  0.6524216532707214,\n",
              "  0.6723646521568298,\n",
              "  0.6723646521568298,\n",
              "  0.7692307829856873,\n",
              "  0.6980056762695312,\n",
              "  0.7891737818717957,\n",
              "  0.74643874168396,\n",
              "  0.7806267738342285,\n",
              "  0.8575498461723328,\n",
              "  0.8205128312110901,\n",
              "  0.8404558300971985,\n",
              "  0.8831908702850342,\n",
              "  0.8831908702850342,\n",
              "  0.8717948794364929,\n",
              "  0.8575498461723328,\n",
              "  0.8689458966255188,\n",
              "  0.8831908702850342,\n",
              "  0.8888888955116272]}"
            ]
          },
          "metadata": {},
          "execution_count": 76
        }
      ]
    },
    {
      "cell_type": "code",
      "source": [
        "import json\n",
        "with open('training_hist.json','w') as f:\n",
        "  json.dump(training_history.history,f)"
      ],
      "metadata": {
        "id": "KkUtN5SoptU6"
      },
      "execution_count": 77,
      "outputs": []
    },
    {
      "cell_type": "code",
      "source": [
        "print(training_history.history.keys())"
      ],
      "metadata": {
        "colab": {
          "base_uri": "https://localhost:8080/"
        },
        "id": "iqxTl_nmqgWf",
        "outputId": "47e5491b-ca43-4590-9ae7-65afd9d99e58"
      },
      "execution_count": 78,
      "outputs": [
        {
          "output_type": "stream",
          "name": "stdout",
          "text": [
            "dict_keys(['loss', 'accuracy', 'val_loss', 'val_accuracy'])\n"
          ]
        }
      ]
    },
    {
      "cell_type": "markdown",
      "source": [
        "##Calculating Accuracy of model achieved on validation set"
      ],
      "metadata": {
        "id": "eU3CSL5Nqwhu"
      }
    },
    {
      "cell_type": "code",
      "source": [
        "print(\"Validation set accuracy: {} %\" .format(training_history.history['val_accuracy'][-1]*100))"
      ],
      "metadata": {
        "colab": {
          "base_uri": "https://localhost:8080/"
        },
        "id": "uIh3wQtsq0_5",
        "outputId": "52d4238a-cfa1-46b8-90b6-270c42ed9b5d"
      },
      "execution_count": 79,
      "outputs": [
        {
          "output_type": "stream",
          "name": "stdout",
          "text": [
            "Validation set accuracy: 88.88888955116272 %\n"
          ]
        }
      ]
    },
    {
      "cell_type": "markdown",
      "source": [
        "##Training Accuracy Visualization:"
      ],
      "metadata": {
        "id": "mzJzWbGXweXb"
      }
    },
    {
      "cell_type": "code",
      "source": [
        "training_history.history['accuracy']"
      ],
      "metadata": {
        "colab": {
          "base_uri": "https://localhost:8080/"
        },
        "id": "SHvXP1q1wiBV",
        "outputId": "77d89063-bae9-4753-d1c4-7725a1b3cad1"
      },
      "execution_count": 80,
      "outputs": [
        {
          "output_type": "execute_result",
          "data": {
            "text/plain": [
              "[0.033065810799598694,\n",
              " 0.0516853928565979,\n",
              " 0.07287319749593735,\n",
              " 0.10176564753055573,\n",
              " 0.13836276531219482,\n",
              " 0.20545746386051178,\n",
              " 0.27094703912734985,\n",
              " 0.3386837840080261,\n",
              " 0.3653290569782257,\n",
              " 0.4321027398109436,\n",
              " 0.4825040102005005,\n",
              " 0.5370786786079407,\n",
              " 0.5948635339736938,\n",
              " 0.6234350204467773,\n",
              " 0.6603531241416931,\n",
              " 0.6950240731239319,\n",
              " 0.7255216836929321,\n",
              " 0.7521669268608093,\n",
              " 0.7701444625854492,\n",
              " 0.7730336785316467,\n",
              " 0.809630811214447,\n",
              " 0.8138041496276855,\n",
              " 0.833707869052887,\n",
              " 0.8571428656578064,\n",
              " 0.8600320816040039,\n",
              " 0.8609951734542847,\n",
              " 0.8943819999694824,\n",
              " 0.8821830153465271,\n",
              " 0.904975950717926,\n",
              " 0.9107544422149658,\n",
              " 0.9146067500114441,\n",
              " 0.9232744574546814]"
            ]
          },
          "metadata": {},
          "execution_count": 80
        }
      ]
    },
    {
      "cell_type": "code",
      "source": [
        "epochs = [i for i in range(1,33)]\n",
        "plt.plot(epochs,training_history.history['accuracy'])\n",
        "plt.xlabel('Epochs')\n",
        "plt.ylabel('Training Accuracy')\n",
        "plt.title('Visualization of Training Accuracy Result')\n",
        "plt.show()"
      ],
      "metadata": {
        "colab": {
          "base_uri": "https://localhost:8080/",
          "height": 472
        },
        "id": "uFZcvspexFvs",
        "outputId": "2833f19d-72c7-4b40-ce6f-9d41fe1a99b9"
      },
      "execution_count": 81,
      "outputs": [
        {
          "output_type": "display_data",
          "data": {
            "text/plain": [
              "<Figure size 640x480 with 1 Axes>"
            ],
            "image/png": "[encoded data removed]"
          },
          "metadata": {}
        }
      ]
    },
    {
      "cell_type": "markdown",
      "source": [
        "#Validation Accuray Visualization"
      ],
      "metadata": {
        "id": "hREQ8z2_yFlz"
      }
    },
    {
      "cell_type": "code",
      "source": [
        "plt.plot(epochs,training_history.history['val_accuracy'], color='red')\n",
        "plt.xlabel('Epochs')\n",
        "plt.ylabel('Validation Accuracy')\n",
        "plt.title('Validation Accuracy Visualization')\n",
        "plt.show()"
      ],
      "metadata": {
        "colab": {
          "base_uri": "https://localhost:8080/",
          "height": 472
        },
        "id": "mH8s8ayByIYp",
        "outputId": "d40828ca-a36a-4725-8e1a-dfb6f41d7e6c"
      },
      "execution_count": 82,
      "outputs": [
        {
          "output_type": "display_data",
          "data": {
            "text/plain": [
              "<Figure size 640x480 with 1 Axes>"
            ],
            "image/png": "[encoded data removed]"
          },
          "metadata": {}
        }
      ]
    }
  ]
}